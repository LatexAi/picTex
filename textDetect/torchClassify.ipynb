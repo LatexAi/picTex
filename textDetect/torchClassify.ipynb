{
 "cells": [
  {
   "cell_type": "markdown",
   "metadata": {},
   "source": [
    "# Text Detection for PicTex \n",
    "### Pytorch Docs Edition\n",
    "by Len Huang\n",
    "\n",
    "An exploratory notebook to learn `PyTorch`. Following https://pytorch.org/tutorials/beginner/blitz/cifar10_tutorial.html\n",
    "\n",
    "Note that much of the text below is copied / modified from the above article. I do not intend to use this for any copyright infrigement, only educational purposes. \n",
    "\n",
    "Much of the additional content is also learned from the Deep Lizard full course: https://deeplizard.com/learn/video/v5cngxo4mIg\n",
    "\n",
    "**I have rewritten much of the code as functions instead of running them directly so that we can run them all together at the end. This personally made more sense to me, and allowed for deeper discussion of each part of the code.**\n",
    "\n",
    "The steps we will take include \n",
    "\n",
    "1. Load and normalizing the CIFAR10 training and test datasets using torchvision\n",
    "2. Define a Convolutional Neural Network\n",
    "3. Define a loss function\n",
    "4. Train the network on the training data\n",
    "5. Test the network on the test data\n",
    "\n",
    "First import the necessary packages:"
   ]
  },
  {
   "cell_type": "code",
   "execution_count": 1,
   "metadata": {},
   "outputs": [],
   "source": [
    "# Torch tings\n",
    "import torch\n",
    "import torchvision\n",
    "import torchvision.transforms as transforms\n",
    "# Math tings\n",
    "import matplotlib.pyplot as plt\n",
    "import numpy as np\n",
    "# CNN tings\n",
    "import torch.nn as nn\n",
    "import torch.nn.functional as F\n",
    "# loss / optimize tings\n",
    "import torch.optim as optim"
   ]
  },
  {
   "cell_type": "markdown",
   "metadata": {},
   "source": [
    "### 1. Load and normalizing CIFAR10\n",
    "\n",
    "CIFAR10 is a common dataset used for image training. Other ones include Imagenet, MNIST. We're going to want to load this data into a `numpy` array so that we can work with it. These are represented as `PILImage` images of range [0,1], so we want to trasform them to Tensors of range [-1,1].\n",
    "\n",
    "_(Len) I briefly discuss what some of these functions do, but more detail is available here:_\n",
    "- https://pytorch.org/docs/master/torchvision/transforms.html \n",
    "- https://pytorch.org/docs/stable/data.html\n",
    "- https://pillow.readthedocs.io/en/stable/reference/Image.html"
   ]
  },
  {
   "cell_type": "code",
   "execution_count": 2,
   "metadata": {},
   "outputs": [],
   "source": [
    "# These imports are used here\n",
    "# import torch\n",
    "# import torchvision\n",
    "# import torchvision.transforms as transforms\n",
    "\n",
    "def load_data():\n",
    "    # Composes multiple transformations together\n",
    "    # .ToTensor() converts a PIL Image / numpy arrray to a tensor\n",
    "    # A tensor is a multidimensional matrix containing elements of a single data type\n",
    "    # .Normalize(mean,std,inplace=False) normalizes a tensor image with mean and std dev\n",
    "    transform = transforms.Compose(\n",
    "        [transforms.ToTensor(),\n",
    "         transforms.Normalize((0.5, 0.5, 0.5), (0.5, 0.5, 0.5))])\n",
    "\n",
    "    # Download the premade training dataset\n",
    "    trainset = torchvision.datasets.CIFAR10(root='./datasets/cifar_data', train=True,\n",
    "                                            download=True, transform=transform)\n",
    "    # DataLoaders take in a \"dataset\" class and give us an iterable. \n",
    "    # Makes datasets easier to work with\n",
    "    trainloader = torch.utils.data.DataLoader(trainset, batch_size=4,\n",
    "                                              shuffle=True, num_workers=2)\n",
    "\n",
    "    # Same thing with the test set\n",
    "    testset = torchvision.datasets.CIFAR10(root='./datasets/cifar_data', train=False,\n",
    "                                           download=True, transform=transform)\n",
    "    # Same thing with the test loader\n",
    "    testloader = torch.utils.data.DataLoader(testset, batch_size=4,\n",
    "                                             shuffle=False, num_workers=2)\n",
    "\n",
    "    # Define our classes that we'll be testing\n",
    "    classes = ('plane', 'car', 'bird', 'cat',\n",
    "               'deer', 'dog', 'frog', 'horse', 'ship', 'truck')\n",
    "    \n",
    "    return trainloader, testloader, classes"
   ]
  },
  {
   "cell_type": "markdown",
   "metadata": {},
   "source": [
    "This can help us show images in this dataset. More documentation available here: https://pytorch.org/docs/stable/torchvision/utils.html"
   ]
  },
  {
   "cell_type": "code",
   "execution_count": 3,
   "metadata": {},
   "outputs": [],
   "source": [
    "# These imports are used here\n",
    "# import matplotlib.pyplot as plt\n",
    "# import numpy as np\n",
    "\n",
    "def show_image():\n",
    "    # Function to show an image\n",
    "    def imshow(img):\n",
    "        img = img / 2 + 0.5 # unnormalize\n",
    "        npimg = img.numpy() # numpy-ify image\n",
    "        plt.imshow(np.transpose(npimg, (1, 2, 0)))\n",
    "        plt.show()\n",
    "\n",
    "    # get some random training images\n",
    "    # example of how DataLoaders make things easier\n",
    "    # iter() and .next() act like loops i think?\n",
    "    dataiter = iter(trainloader)\n",
    "    images, labels = dataiter.next()\n",
    "\n",
    "    # Given a tensor or a list of image tensors, make a grid of images\n",
    "    imshow(torchvision.utils.make_grid(images))\n",
    "    # print labels\n",
    "    print(' '.join('%5s' % classes[labels[j]] for j in range(4)))\n",
    "    return imshow"
   ]
  },
  {
   "cell_type": "markdown",
   "metadata": {},
   "source": [
    "### 2. Define a Convolutional Neural Network\n",
    "\n",
    "In the previous section, Neural Networks were defined: https://pytorch.org/tutorials/beginner/blitz/neural_networks_tutorial.html\n",
    "\n",
    "These will work for one channel images. We're going to copy this but modify it for three chanenel images. \n",
    "\n",
    "Channel refers to RGB (a red channel, green channel, blue channel). One channel refers to grayscale images.\n",
    "\n",
    "Here are some good videos that I've been watching _(Len)_\n",
    "- Deep Lizard video on what CNN's are: https://www.youtube.com/watch?v=YRhxdVk_sIs\n",
    "- Deep Lizard video on PyTorch Usage (Layers): https://www.youtube.com/watch?v=IKOHHItzukk\n",
    "- Deep Lizard video on PyTorch Usage (Weights): https://www.youtube.com/watch?v=stWU37L91Yc\n",
    "\n",
    "#### Len's Notes from the Videos:\n",
    "`nn.Conv2d(x,y,z)` ==> \"Applies a 2D convolution over an input signal composed of several input planes\" [_(from docs)_](https://pytorch.org/docs/master/generated/torch.nn.Conv2d.html). These parameters directly influence the weights in the backend implementation of the tensors. _(Not 100% what this means)._\n",
    "- `x = 3` refers to the `in_channel`, or the number of channels in an input image (1 for grayscale, 3 for color).\n",
    "- `y = 6` refers to the `out_channels`, or the number of outputs produced by the `y` number of filters. (This also sets the number of filters!) Commonly referred to as **feature maps** or just *features* for `Linear` layers. This should be equal to the number of classes you're predicting.\n",
    "- `z = 5` refers to the `kernel_size`, or the size of the filter that we'll be using.\n",
    "\n",
    "`nn.Linear(x,y)` ==> \"Applies a linear transformation to the incoming data: $y=xA^T+b$\"\n",
    "- `x = 16 * 5 * 5` refers to the `in_features`, or the size of each input sample.\n",
    "- `y = 120` refers to the `out_features`, or the size of each output sample. Like `out_channels` this is the number of `classes` that you're predicting.\n",
    "\n",
    "**Layer Trends:** For `Conv2d` layers, we increase the `out_channels` as we increase layers. For `Linear` layers, we decerase the `out_features` as we increase layers.\n",
    "\n",
    "`nn.MaxPool2d(x,y)` ==> \"Applies a 2D max pooling over an input signal composed of several input planes.\"\n",
    "- `x = 2` refers to the `kernel_size`, or the size of the window to take a max over.\n",
    "- `y = 2` refers to the `stride`, or the stride of the window.\n",
    "- Note: _(I have no idea what this means, this wasn't in the video but is in the PyTorch Blitz)_\n",
    "\n",
    "`def forward()` ==> \"This method is the actual network transformation. The forward method is the mapping that maps an input tensor to a prediction output tensor.\""
   ]
  },
  {
   "cell_type": "code",
   "execution_count": 4,
   "metadata": {},
   "outputs": [],
   "source": [
    "# These imports are used here\n",
    "# import torch.nn as nnhttps://pytorch.org/tutorials/beginner/blitz/neural_networks_tutorial.html\n",
    "# import torch.nn.functional as F\n",
    "\n",
    "class Net(nn.Module):\n",
    "    def __init__(self):\n",
    "        super(Net, self).__init__()\n",
    "        self.conv1 = nn.Conv2d(3, 6, 5)\n",
    "        self.pool = nn.MaxPool2d(2, 2) # idk what this does\n",
    "        self.conv2 = nn.Conv2d(6, 16, 5)\n",
    "        # Transitioning from Conv ===> Linear\n",
    "        # 16 is the number of output channels in the previous conv layer.\n",
    "        # not sure what 5 is...\n",
    "        self.fc1 = nn.Linear(16 * 5 * 5, 120)\n",
    "        self.fc2 = nn.Linear(120, 84)\n",
    "        self.fc3 = nn.Linear(84, 10)\n",
    "\n",
    "    def forward(self, x):\n",
    "        x = self.pool(F.relu(self.conv1(x)))\n",
    "        x = self.pool(F.relu(self.conv2(x)))\n",
    "        x = x.view(-1, 16 * 5 * 5)\n",
    "        x = F.relu(self.fc1(x))\n",
    "        x = F.relu(self.fc2(x))\n",
    "        x = self.fc3(x)\n",
    "        return x\n",
    "\n",
    "# init the class \n",
    "# net = Net()"
   ]
  },
  {
   "cell_type": "markdown",
   "metadata": {},
   "source": [
    "### 3. Define a loss function and optimizer\n",
    "\n",
    "![](https://i.imgflip.com/2g4kix.jpg)\n",
    "\n",
    "Let’s use a Classification Cross-Entropy loss and SGD with momentum.\n",
    "- Cross-Entropy: https://ml-cheatsheet.readthedocs.io/en/latest/loss_functions.html\n",
    "- Stochastic Gradient Descent (SGD): https://en.wikipedia.org/wiki/Stochastic_gradient_descent#Momentum\n",
    "- Torch Optimizers: https://pytorch.org/docs/stable/optim.html\n",
    "- Learning Rate: https://machinelearningmastery.com/understand-the-dynamics-of-learning-rate-on-deep-learning-neural-networks/"
   ]
  },
  {
   "cell_type": "code",
   "execution_count": 5,
   "metadata": {},
   "outputs": [],
   "source": [
    "# This import is used here\n",
    "# import torch.optim as optim\n",
    "\n",
    "def loss_optim():\n",
    "    criterion = nn.CrossEntropyLoss()\n",
    "    # Adam\n",
    "    # optimizer = optim.Adam(net.parameters(), lr=0.001)\n",
    "    # SGD. Momentum = remembering previous estimation change for a param (delta W)\n",
    "    optimizer = optim.SGD(net.parameters(), lr=0.001, momentum=0.9)\n",
    "    return criterion, optimizer"
   ]
  },
  {
   "cell_type": "markdown",
   "metadata": {},
   "source": [
    "### 4. Train the network\n",
    "\n",
    "Loop over the data iterator, feed inputs to network, and optimize"
   ]
  },
  {
   "cell_type": "code",
   "execution_count": 6,
   "metadata": {},
   "outputs": [],
   "source": [
    "def train_network():\n",
    "    for epoch in range(2):  # loop over the dataset multiple times\n",
    "\n",
    "        running_loss = 0.0\n",
    "        for i, data in enumerate(trainloader, 0):\n",
    "            # get the inputs; data is a list of [inputs, labels]\n",
    "            inputs, labels = data\n",
    "\n",
    "            # zero the parameter gradients\n",
    "            optimizer.zero_grad()\n",
    "\n",
    "            # forward + backward + optimize\n",
    "            outputs = net(inputs)\n",
    "            loss = criterion(outputs, labels)\n",
    "            loss.backward()\n",
    "            optimizer.step()\n",
    "\n",
    "            # print statistics\n",
    "            running_loss += loss.item()\n",
    "            if i % 2000 == 1999:    # print every 2000 mini-batches\n",
    "                print('[%d, %5d] loss: %.3f' %\n",
    "                      (epoch + 1, i + 1, running_loss / 2000))\n",
    "                running_loss = 0.0\n",
    "\n",
    "    PATH = './models/torch_model.pth'\n",
    "    torch.save(net.state_dict(), PATH)\n",
    "    print('Finished Training')"
   ]
  },
  {
   "cell_type": "markdown",
   "metadata": {},
   "source": [
    "### 5. Test the network on the test data"
   ]
  },
  {
   "cell_type": "code",
   "execution_count": 7,
   "metadata": {},
   "outputs": [],
   "source": [
    "def test_data():\n",
    "    dataiter = iter(testloader)\n",
    "    images, labels = dataiter.next()\n",
    "\n",
    "    # print images\n",
    "    imshow(torchvision.utils.make_grid(images))\n",
    "    print('GroundTruth: ', ' '.join('%5s' % classes[labels[j]] for j in range(4)))"
   ]
  },
  {
   "cell_type": "markdown",
   "metadata": {},
   "source": [
    "### Putting It All Together"
   ]
  },
  {
   "cell_type": "code",
   "execution_count": 8,
   "metadata": {},
   "outputs": [
    {
     "name": "stdout",
     "output_type": "stream",
     "text": [
      "Files already downloaded and verified\n",
      "Files already downloaded and verified\n"
     ]
    },
    {
     "data": {
      "image/png": "[encoded data removed]",
      "text/plain": [
       "<Figure size 432x288 with 1 Axes>"
      ]
     },
     "metadata": {
      "needs_background": "light"
     },
     "output_type": "display_data"
    },
    {
     "name": "stdout",
     "output_type": "stream",
     "text": [
      " frog   dog  bird  frog\n",
      "[1,  2000] loss: 2.192\n",
      "[1,  4000] loss: 1.884\n",
      "[1,  6000] loss: 1.671\n",
      "[1,  8000] loss: 1.596\n",
      "[1, 10000] loss: 1.557\n",
      "[1, 12000] loss: 1.511\n",
      "[2,  2000] loss: 1.422\n",
      "[2,  4000] loss: 1.407\n",
      "[2,  6000] loss: 1.362\n",
      "[2,  8000] loss: 1.343\n",
      "[2, 10000] loss: 1.328\n",
      "[2, 12000] loss: 1.283\n",
      "Finished Training\n"
     ]
    },
    {
     "data": {
      "image/png": "[encoded data removed]",
      "text/plain": [
       "<Figure size 432x288 with 1 Axes>"
      ]
     },
     "metadata": {
      "needs_background": "light"
     },
     "output_type": "display_data"
    },
    {
     "name": "stdout",
     "output_type": "stream",
     "text": [
      "GroundTruth:    cat  ship  ship plane\n"
     ]
    }
   ],
   "source": [
    "trainloader, testloader, classes = load_data()\n",
    "net = Net()\n",
    "imshow = show_image()\n",
    "criterion, optimizer = loss_optim()\n",
    "train_network()\n",
    "test_data()"
   ]
  },
  {
   "cell_type": "code",
   "execution_count": 9,
   "metadata": {},
   "outputs": [
    {
     "data": {
      "text/plain": [
       "2"
      ]
     },
     "execution_count": 9,
     "metadata": {},
     "output_type": "execute_result"
    }
   ],
   "source": [
    "1+1"
   ]
  },
  {
   "cell_type": "code",
   "execution_count": null,
   "metadata": {},
   "outputs": [],
   "source": []
  }
 ],
 "metadata": {
  "kernelspec": {
   "display_name": "Python 3.7.6 64-bit",
   "language": "python",
   "name": "python37664bita46fd814d558463baa988311c2514a7b"
  },
  "language_info": {
   "codemirror_mode": {
    "name": "ipython",
    "version": 3
   },
   "file_extension": ".py",
   "mimetype": "text/x-python",
   "name": "python",
   "nbconvert_exporter": "python",
   "pygments_lexer": "ipython3",
   "version": "3.7.6"
  }
 },
 "nbformat": 4,
 "nbformat_minor": 2
}
